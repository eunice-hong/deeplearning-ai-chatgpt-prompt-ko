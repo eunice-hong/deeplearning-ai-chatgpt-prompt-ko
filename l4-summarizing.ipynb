{
 "cells": [
  {
   "cell_type": "markdown",
   "id": "87857393-6369-4b66-87c9-5f3253edf28e",
   "metadata": {},
   "source": [
    "# 요약: Summarizing\n",
    "이 과정에서는 특정 주제에 중점을 두어 텍스트를 요약합니다.\n",
    "\n",
    "## 설정"
   ]
  },
  {
   "cell_type": "code",
   "execution_count": null,
   "id": "8ac673e1",
   "metadata": {},
   "outputs": [],
   "source": [
    "import openai\n",
    "import os\n",
    "\n",
    "from dotenv import load_dotenv, find_dotenv\n",
    "_ = load_dotenv(find_dotenv()) # read local .env file\n",
    "\n",
    "openai.api_key  = os.getenv('OPENAI_API_KEY')"
   ]
  },
  {
   "cell_type": "code",
   "execution_count": null,
   "id": "66de8ca6",
   "metadata": {},
   "outputs": [],
   "source": [
    "def get_completion(prompt, model=\"gpt-3.5-turbo\"): # Andrew mentioned that the prompt/ completion paradigm is preferable for this class\n",
    "    messages = [{\"role\": \"user\", \"content\": prompt}]\n",
    "    response = openai.ChatCompletion.create(\n",
    "        model=model,\n",
    "        messages=messages,\n",
    "        temperature=0, # this is the degree of randomness of the model's output\n",
    "    )\n",
    "    return response.choices[0].message[\"content\"]\n"
   ]
  },
  {
   "cell_type": "markdown",
   "id": "387b0686-bea6-41a2-b879-88721dc0ec10",
   "metadata": {},
   "source": [
    "## 요약할 텍스트 준비"
   ]
  },
  {
   "cell_type": "code",
   "execution_count": null,
   "id": "0ce2cf3c",
   "metadata": {},
   "outputs": [],
   "source": [
    "prod_review = \"\"\"\n",
    "내 딸 생일에 판다 인형을 선물로 받았는데, 그는 그것을 사랑하고 어디든 가져간다. 그것은 부드럽고 매우 귀엽고, 그것의 얼굴은 다정해 보입니다. 하지만 제가 지불한 것에 비해서는 조금 작습니다. 같은 가격에 더 큰 옵션이 있을 수도 있다고 생각합니다. 생각보다 하루 빨리 도착해서 선물하기 전에 직접 가지고 놀게 됐어요.\n",
    "\"\"\""
   ]
  },
  {
   "cell_type": "markdown",
   "id": "5d95eba0-7744-491a-a30a-8ee687303b7a",
   "metadata": {},
   "source": [
    "## 단어/문장/문자 제한하여 요약"
   ]
  },
  {
   "cell_type": "code",
   "execution_count": null,
   "id": "0c3023c6",
   "metadata": {},
   "outputs": [],
   "source": [
    "prompt = f\"\"\"\n",
    "전자 상거래 사이트에서 제품 리뷰에 대한 간단한 요약을 생성하는 것이 작업입니다. \n",
    "\n",
    "아래의 리뷰를 최대 30단어로 요약하세요. \n",
    "\n",
    "리뷰:```{prod_review}```\n",
    "\"\"\"\n",
    "\n",
    "response = get_completion(prompt)\n",
    "print(response)\n"
   ]
  },
  {
   "cell_type": "markdown",
   "id": "90832908-3b3a-459b-b595-bbe15c2a72fa",
   "metadata": {},
   "source": [
    "## 배송에 중점을 두고 요약"
   ]
  },
  {
   "cell_type": "code",
   "execution_count": null,
   "id": "d850bdd2",
   "metadata": {},
   "outputs": [],
   "source": [
    "prompt = f\"\"\"\n",
    "귀하의 업무는 전자상거래 사이트에서 제품 리뷰에 대한 간단한 요약을 생성하여 배송 부서에 피드백을 제공하는 것입니다. \n",
    "\n",
    "삼중 백틱으로 구분되어있는 아래의 리뷰를 요약하세요.\n",
    "- 최대 30단어\n",
    "- 제품의 배송에 대해 언급하는 부분에 초점을 맞추세요.\n",
    "\n",
    "리뷰:```{prod_review}```\n",
    "\"\"\"\n",
    "\n",
    "response = get_completion(prompt)\n",
    "print(response)"
   ]
  },
  {
   "cell_type": "markdown",
   "id": "01204385-1d27-420c-80ee-bd4b524550f6",
   "metadata": {},
   "source": [
    "## 가격과 가치에 중점을 두고 요약"
   ]
  },
  {
   "cell_type": "code",
   "execution_count": null,
   "id": "6d865432",
   "metadata": {},
   "outputs": [],
   "source": [
    "prompt = f\"\"\"\n",
    "당신의 업무는 전자 상거래 사이트에서 제품 리뷰의 간단한 요약을 생성하여 제품 가격 결정을 담당하는 가격 부서에 피드백을 제공하는 것입니다.  \n",
    "\n",
    "삼중 백틱으로 구분되어있는 아래의 리뷰를 요약하세요.\n",
    "- 최대 30단어\n",
    "- 가격 및 제품의 가치와 관련된 부분에 초점을 맞춥니다. \n",
    "\n",
    "리뷰:```{prod_review}```\n",
    "\"\"\"\n",
    "\n",
    "response = get_completion(prompt)\n",
    "print(response)\n"
   ]
  },
  {
   "cell_type": "markdown",
   "id": "21a561c4-d9a0-48a8-86c4-725746fb08df",
   "metadata": {},
   "source": [
    "#### 참고\n",
    "- 요약은 중심 주제와 관련이 없는 주제가 포함됩니다."
   ]
  },
  {
   "cell_type": "markdown",
   "id": "9aff99cd-dc09-467c-bd09-897ffe06a232",
   "metadata": {},
   "source": [
    "## \"요약\" 대신 \"추출\" 하기"
   ]
  },
  {
   "cell_type": "code",
   "execution_count": null,
   "id": "190943b0",
   "metadata": {},
   "outputs": [],
   "source": [
    "prompt = f\"\"\"\n",
    "귀하의 업무는 전자상거래 사이트의 제품 리뷰에서 관련 정보를 추출하여 배송 부서에 피드백을 제공하는 것입니다. \n",
    "\n",
    "삼중 백틱으로 구분되어있는 아래의 리뷰에서 정보를 추출하세요.\n",
    "- 최대 30단어\n",
    "- 제품의 배송에 대해 언급하는 부분에 초점을 맞추세요.\n",
    "\n",
    "\n",
    "리뷰: ```{prod_review}```\n",
    "\"\"\"\n",
    "\n",
    "response = get_completion(prompt)\n",
    "print(response)"
   ]
  },
  {
   "cell_type": "markdown",
   "id": "f513da2e-f89c-4c91-8456-b79c630e70c9",
   "metadata": {},
   "source": [
    "## 다량의 제품 리뷰 요약"
   ]
  },
  {
   "cell_type": "code",
   "execution_count": null,
   "id": "027822c2",
   "metadata": {},
   "outputs": [],
   "source": [
    "\n",
    "review_1 = prod_review \n",
    "\n",
    "# review for a standing lamp\n",
    "review_2 = \"\"\"\n",
    "내 침실에 쓸 멋진 램프가 필요했고, 이 램프는 추가 수납이 가능했고 가격도 너무 비싸지 않았다. 빨리 받았어요 - 이틀 만에 도착했어요. 램프의 끈이 운송 중에 끊어졌고 회사는 기쁘게 새 것을 보냈다. 며칠 안에 도착하기도 했어요. 그것은 조립하기 쉬웠다. 그리고 나서 제가 빠진 부분이 있어서 그들의 지원팀에 연락을 해봤는데 그들은 저에게 빠진 부분을 아주 빨리 가져다줬어요! 내가 보기에 그들의 고객과 제품을 배려하는 훌륭한 회사인 것 같다.\n",
    "\"\"\"\n",
    "\n",
    "# review for an electric toothbrush\n",
    "review_3 = \"\"\"\n",
    "치과 위생사가 전동 칫솔을 추천해줘서 이것을 받았어요. 배터리 수명은 지금까지 꽤 인상적인 것 같다. 처음 충전하고 배터리 상태를 유지하기 위해 첫 주 동안 충전기를 꽂은 후, 나는 충전기의 플러그를 뽑고 지난 3주 동안 매일 두 번씩 같은 충전으로 그것을 사용했다. 하지만 칫솔 머리가 너무 작습니다. 나는 이것보다 더 큰 아기 칫솔을 본 적이 있다. 나는 머리가 더 크고, 길이가 다른 강모가 치아 사이에 더 잘 끼었으면 좋겠다. 왜냐하면 이것은 그렇지 않기 때문이다.  전체적으로 이것을 50달러 선에서 살 수 있다면, 좋은 거래입니다. 제조사의 교체용 헤드는 꽤 비싸지만, 당신은 더 합리적인 가격의 일반 헤드를 얻을 수 있습니다. 이 칫솔은 내가 매일 치과에 간 것처럼 느끼게 해준다. 내 치아는 반짝반짝 깨끗해!\n",
    "\"\"\"\n",
    "\n",
    "# review for a blender\n",
    "review_4 = \"\"\"\n",
    "그래서, 그들은 여전히 11월 한 달에 약 절반 할인된 49달러에 계절적으로 판매되는 17피스 시스템을 가지고 있었지만, 어떤 이유에서인지 12월 둘째 주 즈음에 가격이 같은 시스템에 대해 70달러에서 89달러 사이로 모두 올랐다. 그리고 11피스 시스템은 또한 초기 판매 가격인 29달러에서 약 10달러 정도 올랐다. 그래서 괜찮아 보이지만, 베이스를 보면 블레이드가 제자리에 고정되는 부분이 몇 년 전의 이전 버전보다 좋아 보이지 않지만, 저는 매우 부드럽게 다룰 계획입니다(예를 들어 콩, 얼음, 쌀 등의 매우 단단한 품목을 으깨어요). 먼저 믹서기에서 내가 원하는 크기로 분쇄한 다음, 더 가는 밀가루를 위해 휘핑 블레이드로 전환하고, 스무디를 만들 때는 십자 절단 블레이드를 먼저 사용하고, 더 가는/적은 펄프가 필요하면 평평한 블레이드를 사용합니다. 스무디를 만들 때 특별한 팁, 과일과 야채를 잘게 자르고 얼린다. (시금치를 살짝 끓이면 시금치를 부드럽게 한 다음 사용할 준비가 될 때까지 얼린다. 그리고 소르베를 만들 경우 중소 크기의 식품 가공기를 사용한다.) \\ 스무디를 만들 때 그렇게 많은 얼음을 추가하는 것을 피할 계획이다. 약 1년 후, 모터가 이상한 소리를 내고 있었다. 나는 고객 서비스를 요청했지만, 보증 기간이 만료되어 다른 것을 구매해야 했다. 참고: 이런 종류의 제품들은 전반적인 품질이 향상되었기 때문에, 그들은 매출을 유지하기 위해 브랜드 인지도와 소비자 충성도에 의존하고 있습니다. 이틀 만에 받았어요.\n",
    "\"\"\"\n",
    "\n",
    "reviews = [review_1, review_2, review_3, review_4]\n",
    "\n"
   ]
  },
  {
   "cell_type": "code",
   "execution_count": null,
   "id": "b7c39cc8",
   "metadata": {},
   "outputs": [],
   "source": [
    "for i in range(len(reviews)):\n",
    "    prompt = f\"\"\"\n",
    "    전자 상거래 사이트에서 제품 리뷰에 대한 간단한 요약을 생성하는 것이 작업입니다. \n",
    "\n",
    "    삼중 백틱으로 구분되어있는 아래의 리뷰를 요약하세요.\n",
    "    - 최대 20단어\n",
    "\n",
    "    리뷰:```{reviews[i]}```\n",
    "    \"\"\"\n",
    "\n",
    "    response = get_completion(prompt)\n",
    "    print(i, response, \"\\n\")\n"
   ]
  },
  {
   "cell_type": "markdown",
   "id": "e0c9f921-8672-4124-bad6-8bee65078ccb",
   "metadata": {},
   "source": [
    "## 스스로 실험해 보세요!"
   ]
  },
  {
   "cell_type": "code",
   "execution_count": null,
   "id": "d05d8a20-86f2-4613-835e-41c49a504b5b",
   "metadata": {},
   "outputs": [],
   "source": []
  }
 ],
 "metadata": {
  "kernelspec": {
   "display_name": "Python 3 (ipykernel)",
   "language": "python",
   "name": "python3"
  },
  "language_info": {
   "codemirror_mode": {
    "name": "ipython",
    "version": 3
   },
   "file_extension": ".py",
   "mimetype": "text/x-python",
   "name": "python",
   "nbconvert_exporter": "python",
   "pygments_lexer": "ipython3",
   "version": "3.11.3"
  }
 },
 "nbformat": 4,
 "nbformat_minor": 5
}
