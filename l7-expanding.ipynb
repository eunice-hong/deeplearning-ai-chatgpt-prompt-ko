{
 "cells": [
  {
   "cell_type": "markdown",
   "id": "8de529e8-3891-4f47-8585-65b92b80bbf7",
   "metadata": {},
   "source": [
    "# 확장: Expanding\n",
    "이 과정에서는 각 고객의 리뷰에 맞는 고객 서비스 이메일을 생성합니다.\n",
    "\n",
    "## 설정"
   ]
  },
  {
   "cell_type": "code",
   "execution_count": null,
   "id": "e23399a9",
   "metadata": {
    "height": 132
   },
   "outputs": [],
   "source": [
    "import openai\n",
    "import os\n",
    "\n",
    "from dotenv import load_dotenv, find_dotenv\n",
    "_ = load_dotenv(find_dotenv()) # read local .env file\n",
    "\n",
    "openai.api_key  = os.getenv('OPENAI_API_KEY')"
   ]
  },
  {
   "cell_type": "code",
   "execution_count": null,
   "id": "4c943900-98db-40b3-b639-7822ee2c5fd8",
   "metadata": {
    "height": 149
   },
   "outputs": [],
   "source": [
    "def get_completion(prompt, model=\"gpt-3.5-turbo\",temperature=0): # Andrew mentioned that the prompt/ completion paradigm is preferable for this class\n",
    "    messages = [{\"role\": \"user\", \"content\": prompt}]\n",
    "    response = openai.ChatCompletion.create(\n",
    "        model=model,\n",
    "        messages=messages,\n",
    "        temperature=temperature, # this is the degree of randomness of the model's output\n",
    "    )\n",
    "    return response.choices[0].message[\"content\"]"
   ]
  },
  {
   "cell_type": "markdown",
   "id": "f8ceea77-990a-4c64-bb49-3ba65eb155d2",
   "metadata": {},
   "source": [
    "## 맞춤형 고객 이메일 자동 응답"
   ]
  },
  {
   "cell_type": "code",
   "execution_count": null,
   "id": "c30c4239",
   "metadata": {
    "height": 642
   },
   "outputs": [],
   "source": [
    "# \"추측하기\" 강의에서 배운 정서와\n",
    "# 원래 고객 메시지를 고려하여 이메일을 사용자 정의합니다\n",
    "sentiment = \"부정적\"\n",
    "\n",
    "# review for a blender\n",
    "review = f\"\"\"\n",
    "그래서, 그들은 여전히 11월 한 달에 약 절반 할인된 49달러에 계절적으로 판매되는 17피스 시스템을 가지고 있었지만, 어떤 이유에서인지 12월 둘째 주 즈음에 가격이 같은 시스템에 대해 70달러에서 89달러 사이로 모두 올랐다. 그리고 11피스 시스템은 또한 초기 판매 가격인 29달러에서 약 10달러 정도 올랐다. 그래서 괜찮아 보이지만, 베이스를 보면 블레이드가 제자리에 고정되는 부분이 몇 년 전의 이전 버전보다 좋아 보이지 않지만, 저는 매우 부드럽게 다룰 계획입니다(예를 들어 콩, 얼음, 쌀 등의 매우 단단한 품목을 으깨어요). 먼저 믹서기에 넣고 내가 원하는 크기로 분쇄한 다음, 더 가는 밀가루를 위해 휘핑 블레이드로 전환하고, 스무디를 만들 때는 십자 절단 블레이드를 먼저 사용하고, 더 가는/적은 펄프가 필요하면 평평한 블레이드를 사용합니다.). 스무디를 만들 때 특별한 팁, 과일과 야채를 잘게 썰어서 얼리세요. (시금치를 살짝 끓이면 시금치를 부드럽게 한 후 사용할 준비가 될 때까지 얼리고, 소르베를 만들 경우 중소 크기의 식품 프로세서를 사용하세요.) 스무디를 만들 때 그렇게 많은 얼음을 추가하는 것을 피할 수 있습니다. 약 1년 후, 모터가 이상한 소리를 내고 있었다. 나는 고객 서비스를 요청했지만, 보증 기간이 만료되어 다른 것을 구매해야 했다. 참고: 이런 종류의 제품들은 전반적인 품질이 향상되었기 때문에, 그들은 매출을 유지하기 위해 브랜드 인지도와 소비자 충성도에 의존하고 있습니다. 이틀 만에 받았어요.\n",
    "\"\"\""
   ]
  },
  {
   "cell_type": "code",
   "execution_count": null,
   "id": "d5403f73",
   "metadata": {
    "height": 302
   },
   "outputs": [],
   "source": [
    "prompt = f\"\"\"\n",
    "당신은 고객 서비스 AI 비서입니다.\n",
    "귀하의 업무는 중요한 고객에게 이메일 회신을 보내는 것입니다.\n",
    "''로 구분된 고객 이메일이 주어지면 고객의 검토에 감사하는 답변을 생성합니다.\n",
    "만약 그 감정이 긍정적이거나 중립적이라면, 그들의 검토에 감사하라.\n",
    "감정이 부정적인 경우 사과하고 고객 서비스에 연락할 수 있다고 제안합니다. \n",
    "검토의 특정 세부 정보를 사용해야 합니다.\n",
    "간결하고 전문적인 어조로 쓰세요.\n",
    "이메일에 'AI 고객 에이전트'라고 서명합니다.\n",
    "고객 후기: ```{review}```\n",
    "리뷰 정서: {sentiment}\n",
    "\"\"\"\n",
    "response = get_completion(prompt)\n",
    "print(response)"
   ]
  },
  {
   "cell_type": "markdown",
   "id": "55605ee0-118c-4c46-a917-4981a43fcad3",
   "metadata": {},
   "source": [
    "## 고객의 이메일에 있는 세부 정보를 사용하도록 모델에게 알림"
   ]
  },
  {
   "cell_type": "code",
   "execution_count": null,
   "id": "1d5ea7c8",
   "metadata": {
    "height": 302
   },
   "outputs": [],
   "source": [
    "prompt = f\"\"\"\n",
    "당신은 고객 서비스 AI 비서입니다.\n",
    "귀하의 업무는 중요한 고객에게 이메일 회신을 보내는 것입니다.\n",
    "''로 구분된 고객 이메일이 주어지면 고객의 검토에 감사하는 답변을 생성합니다.\n",
    "만약 그 감정이 긍정적이거나 중립적이라면, 그들의 검토에 감사하라.\n",
    "감정이 부정적인 경우 사과하고 고객 서비스에 연락할 수 있다고 제안합니다.\n",
    "검토의 특정 세부 정보를 사용해야 합니다.\n",
    "간결하고 전문적인 어조로 쓰세요.\n",
    "이메일에 'AI 고객 에이전트'라고 서명합니다.\n",
    "고객 후기: ```{review}```\n",
    "리뷰 정서: {sentiment}\n",
    "\"\"\"\n",
    "response = get_completion(prompt, temperature=0.7)\n",
    "print(response)"
   ]
  },
  {
   "cell_type": "markdown",
   "id": "31e317ad-9e51-4e7a-90c3-d88e7bf8a98c",
   "metadata": {},
   "source": [
    "## 스스로 실험해 보세요!"
   ]
  },
  {
   "cell_type": "code",
   "execution_count": null,
   "id": "ffa65c7e",
   "metadata": {
    "height": 30
   },
   "outputs": [],
   "source": []
  }
 ],
 "metadata": {
  "kernelspec": {
   "display_name": "Python 3 (ipykernel)",
   "language": "python",
   "name": "python3"
  },
  "language_info": {
   "codemirror_mode": {
    "name": "ipython",
    "version": 3
   },
   "file_extension": ".py",
   "mimetype": "text/x-python",
   "name": "python",
   "nbconvert_exporter": "python",
   "pygments_lexer": "ipython3",
   "version": "3.11.3"
  }
 },
 "nbformat": 4,
 "nbformat_minor": 5
}
