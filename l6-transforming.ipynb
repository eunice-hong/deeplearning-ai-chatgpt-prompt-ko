{
 "cells": [
  {
   "cell_type": "markdown",
   "id": "e3993515-9710-4ac4-89e9-b35ebb81e920",
   "metadata": {
    "id": "rhqRhkElpJ0z"
   },
   "source": [
    "# 변형: Transforming\n",
    "\n",
    "이 노트북에서는 언어 번역, 철자 및 문법 검사, 톤 조정 및 형식 변환과 같은 텍스트 변환 작업에 Large Language Model을 사용하는 방법에 대해 알아보겠습니다.\n",
    "\n",
    "## 설정"
   ]
  },
  {
   "cell_type": "code",
   "execution_count": null,
   "id": "41df0348",
   "metadata": {
    "tags": []
   },
   "outputs": [],
   "source": [
    "import openai\n",
    "import os\n",
    "\n",
    "from dotenv import load_dotenv, find_dotenv\n",
    "_ = load_dotenv(find_dotenv()) # read local .env file\n",
    "\n",
    "openai.api_key  = os.getenv('OPENAI_API_KEY')"
   ]
  },
  {
   "cell_type": "code",
   "execution_count": null,
   "id": "6a85ee0f",
   "metadata": {
    "tags": []
   },
   "outputs": [],
   "source": [
    "def get_completion(prompt, model=\"gpt-3.5-turbo\", temperature=0): \n",
    "    messages = [{\"role\": \"user\", \"content\": prompt}]\n",
    "    response = openai.ChatCompletion.create(\n",
    "        model=model,\n",
    "        messages=messages,\n",
    "        temperature=temperature, \n",
    "    )\n",
    "    return response.choices[0].message[\"content\"]"
   ]
  },
  {
   "cell_type": "markdown",
   "id": "1d8f0bd8-628e-4c36-bcd0-2110162f25fc",
   "metadata": {
    "id": "zdxC4c6pwqA5"
   },
   "source": [
    "## 번역하기\n",
    "\n",
    "ChatGPT는 여러 언어로 된 소스를 사용하여 교육을 받습니다. 때문에, 모델은 번역 능력을 갖게됩니다. 다음은 이 기능을 사용하는 몇 가지 예입니다."
   ]
  },
  {
   "cell_type": "code",
   "execution_count": null,
   "id": "9c4df6ff",
   "metadata": {
    "tags": []
   },
   "outputs": [],
   "source": [
    "prompt = f\"\"\"\n",
    "다음 영어 텍스트를 스페인어로 번역하세요: \\ \n",
    "```Hi, I would like to order a blender```\n",
    "\"\"\"\n",
    "response = get_completion(prompt)\n",
    "print(response)"
   ]
  },
  {
   "cell_type": "code",
   "execution_count": null,
   "id": "7300ed9b",
   "metadata": {
    "tags": []
   },
   "outputs": [],
   "source": [
    "prompt = f\"\"\"\n",
    "이것이 어떤 언어인지 알려주세요: \n",
    "```Combien coûte le lampadaire?```\n",
    "\"\"\"\n",
    "response = get_completion(prompt)\n",
    "print(response)"
   ]
  },
  {
   "cell_type": "code",
   "execution_count": null,
   "id": "791e789b",
   "metadata": {
    "tags": []
   },
   "outputs": [],
   "source": [
    "prompt = f\"\"\"\n",
    "다음 텍스트를 프랑스어, 스페인어, 영국 해적어로 번역하세요: \\\n",
    "```I want to order a basketball```\n",
    "\"\"\"\n",
    "response = get_completion(prompt)\n",
    "print(response)"
   ]
  },
  {
   "cell_type": "code",
   "execution_count": null,
   "id": "fcf7eb63",
   "metadata": {
    "tags": []
   },
   "outputs": [],
   "source": [
    "prompt = f\"\"\"\n",
    "다음 텍스트를 격식체 와 비격식체 스페인어로 번역하세요: \n",
    "'Would you like to order a pillow?'\n",
    "\"\"\"\n",
    "response = get_completion(prompt)\n",
    "print(response)"
   ]
  },
  {
   "cell_type": "markdown",
   "id": "8edb56d2-a32a-470f-9f40-4fc5b1ea0849",
   "metadata": {
    "id": "-hN2bczQrRC1"
   },
   "source": [
    "### 범용 번역기\n",
    "당신이 대형 다국적 전자상거래 회사에서 IT를 담당하고 있다고 상상해보세요. 사용자는 IT 문제에 대해 다양한 언어로 메시지를 보냅니다. 당신의 직원들은 전 세계에서 왔고 자신들의 모국어만 구사합니다. 당신은 범용 번역기가 필요해요!"
   ]
  },
  {
   "cell_type": "code",
   "execution_count": null,
   "id": "68a40bf0",
   "metadata": {
    "tags": []
   },
   "outputs": [],
   "source": [
    "user_messages = [\n",
    "  \"La performance du système est plus lente que d'habitude.\",  # 시스템 성능이 정상보다 느립니다\n",
    "  \"Mi monitor tiene píxeles que no se iluminan.\",              # 모니터에 불이 들어오지 않는 픽셀이 있습니다\n",
    "  \"Il mio mouse non funziona\",                                 # 마우스가 작동하지 않습니다\n",
    "  \"Mój klawisz Ctrl jest zepsuty\",                             # 키보드에 제어 키가 고장났습니다\n",
    "  \"我的屏幕在闪烁\"                                               # 화면이 깜박입니다\n",
    "] "
   ]
  },
  {
   "cell_type": "code",
   "execution_count": null,
   "id": "552d0db9",
   "metadata": {
    "tags": []
   },
   "outputs": [],
   "source": [
    "for issue in user_messages:\n",
    "    prompt = f\"이게 무슨 언어인지 알려주세요: ```{issue}```\"\n",
    "    lang = get_completion(prompt)\n",
    "    print(f\"원본 메시지 ({lang}): {issue}\")\n",
    "\n",
    "    prompt = f\"\"\"\n",
    "    다음 텍스트를 영어와 한국어로 번역하세요: ```{issue}```\n",
    "    \"\"\"\n",
    "    response = get_completion(prompt)\n",
    "    print(response, \"\\n\")"
   ]
  },
  {
   "cell_type": "markdown",
   "id": "18e660eb-324f-474c-acf3-7e3bf5b7c70e",
   "metadata": {},
   "source": [
    "## 직접 해보세요!\n",
    "번역을 직접 해보세요!"
   ]
  },
  {
   "cell_type": "code",
   "execution_count": null,
   "id": "fa57158f-d77d-42d1-94fe-17fa59c012f8",
   "metadata": {},
   "outputs": [],
   "source": []
  },
  {
   "cell_type": "markdown",
   "id": "1d9e54ca-f93a-43c8-a295-bff7a89f77f5",
   "metadata": {
    "id": "JH3-0vdjsILh"
   },
   "source": [
    "## 톤 변환\n",
    "글은 독자에 따라 달라질 수 있다. ChatGPT는 다양한 어투를 구사할 수 있다."
   ]
  },
  {
   "cell_type": "code",
   "execution_count": null,
   "id": "2deac328",
   "metadata": {
    "tags": []
   },
   "outputs": [],
   "source": [
    "prompt = f\"\"\"\n",
    "다음을 속어에서 비즈니스 레터로 번역하세요: \n",
    "'Dude, This is Joe, check out this spec on this standing lamp.'\n",
    "\"\"\"\n",
    "response = get_completion(prompt)\n",
    "print(response)"
   ]
  },
  {
   "cell_type": "markdown",
   "id": "a2c7eb73-6b82-442d-b4f8-251c308e89d5",
   "metadata": {
    "id": "p3e9sZh5tWIa"
   },
   "source": [
    "## 형식 변환\n",
    "ChatGPT는 형식 간 변환을 할 수 있습니다. 프롬프트에서 입력 및 출력 형식을 설명하면 됩니다."
   ]
  },
  {
   "cell_type": "code",
   "execution_count": null,
   "id": "5a37f0a0",
   "metadata": {
    "tags": []
   },
   "outputs": [],
   "source": [
    "data_json = { \"resturant employees\" :[ \n",
    "    {\"name\":\"Shyam\", \"email\":\"shyamjaiswal@gmail.com\"},\n",
    "    {\"name\":\"Bob\", \"email\":\"bob32@gmail.com\"},\n",
    "    {\"name\":\"Jai\", \"email\":\"jai87@gmail.com\"}\n",
    "]}\n",
    "\n",
    "prompt = f\"\"\"\n",
    "다음 python dictionary를 JSON에서 열 머리글과 제목이 있는 HTML 표로 변환합니다: {data_json}\n",
    "\"\"\"\n",
    "response = get_completion(prompt)\n",
    "print(response)"
   ]
  },
  {
   "cell_type": "code",
   "execution_count": null,
   "id": "481a46b7",
   "metadata": {
    "tags": []
   },
   "outputs": [],
   "source": [
    "from IPython.display import display, Markdown, Latex, HTML, JSON\n",
    "display(HTML(response))"
   ]
  },
  {
   "cell_type": "markdown",
   "id": "2df1824c-534b-45cb-b0c1-3000bba5adbe",
   "metadata": {
    "id": "qLTz16qEzyT_"
   },
   "source": [
    "## 철자 검사/문법 검사\n",
    "\n",
    "다음은 일반적인 문법과 철자 문제의 몇 가지 예와 LLM의 응답입니다. \n",
    "\n",
    "텍스트를 교정하기 위해 LLM에 신호를 보내려면 모델에게 '교정' 또는 '교정'을 지시합니다."
   ]
  },
  {
   "cell_type": "code",
   "execution_count": null,
   "id": "52d77283",
   "metadata": {
    "tags": []
   },
   "outputs": [],
   "source": [
    "text = [ \n",
    "  \"The girl with the black and white puppies have a ball.\",  # The girl has a ball.\n",
    "  \"Yolanda has her notebook.\", # ok\n",
    "  \"Its going to be a long day. Does the car need it’s oil changed?\",  # Homonyms\n",
    "  \"Their goes my freedom. There going to bring they’re suitcases.\",  # Homonyms\n",
    "  \"Your going to need you’re notebook.\",  # Homonyms\n",
    "  \"That medicine effects my ability to sleep. Have you heard of the butterfly affect?\", # Homonyms\n",
    "  \"This phrase is to cherck chatGPT for speling abilitty\"  # spelling\n",
    "]\n",
    "for t in text:\n",
    "    prompt = f\"\"\"다음 텍스트를 교정하고\n",
    "        수정된 버전을 다시 작성하십시오. \n",
    "        오류가 발견되지 않으면 \"오류를 찾을 수 없습니다.\"라고 말합니다. \n",
    "        텍스트 주변에 구두점 사용 안 함:\n",
    "    ```{t}```\"\"\"\n",
    "    response = get_completion(prompt)\n",
    "    print(response)"
   ]
  },
  {
   "cell_type": "code",
   "execution_count": null,
   "id": "7543fe7d",
   "metadata": {
    "tags": []
   },
   "outputs": [],
   "source": [
    "text = f\"\"\"\n",
    "내 딸 생일 선물로 받은 거야 내 딸이 내 방에서 계속 내 것을 가져갔거든.  네, 어른들도 판다를 좋아해요.  그녀는 그것을 어디에나 가지고 다니는데, 그것은 매우 부드럽고 귀엽다.  한쪽 귀는 다른 한쪽 귀보다 약간 낮고, 저는 그것이 비대칭적으로 설계되었다고 생각하지 않습니다. 하지만 제가 지불한 것에 비해서는 조금 작습니다. 같은 가격에 더 큰 옵션이 있을 수도 있다고 생각합니다.  생각보다 하루 빨리 도착해서 딸에게 주기 전에 직접 가지고 놀게 되었어요.\n",
    "\"\"\"\n",
    "prompt = f\"proofread and correct this review: ```{text}```\"\n",
    "response = get_completion(prompt)\n",
    "print(response)"
   ]
  },
  {
   "cell_type": "code",
   "execution_count": null,
   "id": "11ac80a0",
   "metadata": {
    "tags": []
   },
   "outputs": [],
   "source": [
    "from redlines import Redlines\n",
    "\n",
    "diff = Redlines(text,response)\n",
    "display(Markdown(diff.output_markdown))"
   ]
  },
  {
   "cell_type": "code",
   "execution_count": null,
   "id": "2b4e73fd",
   "metadata": {
    "tags": []
   },
   "outputs": [],
   "source": [
    "prompt = f\"\"\"\n",
    "이 리뷰를 교정하고 수정합니다. 좀 더 설득력 있게. \n",
    "APA 스타일 가이드를 따르고 고급 판독기를 대상으로 합니다. \n",
    "마크다운 형식의 출력입니다.\n",
    "텍스트: ```{text}```\n",
    "\"\"\"\n",
    "response = get_completion(prompt)\n",
    "display(Markdown(response))"
   ]
  },
  {
   "cell_type": "markdown",
   "id": "63fb76bc-a742-4b35-9dc2-f7fbc12d38fb",
   "metadata": {},
   "source": [
    "## 직접 해보세요!\n",
    "사용자 자신의 검토를 구성하기 위해 지침을 변경해 보십시오."
   ]
  },
  {
   "cell_type": "code",
   "execution_count": null,
   "id": "a2b2ca58",
   "metadata": {},
   "outputs": [],
   "source": []
  },
  {
   "cell_type": "markdown",
   "id": "3dbf5020-7d7f-4ba5-840b-20e883cd7c99",
   "metadata": {
    "id": "unsf1JnRr2IC"
   },
   "source": [
    "다음 사이트를 참고했습니다:\n",
    "\n",
    "https://writingprompts.com/bad-grammar-examples/\n"
   ]
  }
 ],
 "metadata": {
  "kernelspec": {
   "display_name": "Python 3 (ipykernel)",
   "language": "python",
   "name": "python3"
  },
  "language_info": {
   "codemirror_mode": {
    "name": "ipython",
    "version": 3
   },
   "file_extension": ".py",
   "mimetype": "text/x-python",
   "name": "python",
   "nbconvert_exporter": "python",
   "pygments_lexer": "ipython3",
   "version": "3.11.3"
  }
 },
 "nbformat": 4,
 "nbformat_minor": 5
}
