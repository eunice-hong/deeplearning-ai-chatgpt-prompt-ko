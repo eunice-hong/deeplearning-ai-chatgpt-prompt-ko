{
 "cells": [
  {
   "cell_type": "markdown",
   "id": "a9183228-0ba6-4af9-8430-649e28868253",
   "metadata": {
    "id": "JMXGlIvAwn30"
   },
   "source": [
    "# 채팅 형식: The Chat Format\n",
    "\n",
    "이 노트북에서는 채팅 형식을 활용하여 특정 작업이나 행동에 맞게 개인화되거나 전문화된 챗봇과 확장된 대화를 할 수 있는 방법을 탐구할 것이다.\n",
    "\n",
    "## 설정"
   ]
  },
  {
   "cell_type": "code",
   "execution_count": null,
   "id": "7fa0d9b5",
   "metadata": {
    "tags": []
   },
   "outputs": [],
   "source": [
    "import os\n",
    "import openai\n",
    "from dotenv import load_dotenv, find_dotenv\n",
    "_ = load_dotenv(find_dotenv()) # read local .env file\n",
    "\n",
    "openai.api_key  = os.getenv('OPENAI_API_KEY')"
   ]
  },
  {
   "cell_type": "code",
   "execution_count": null,
   "id": "f5308d65",
   "metadata": {
    "tags": []
   },
   "outputs": [],
   "source": [
    "def get_completion(prompt, model=\"gpt-3.5-turbo\"):\n",
    "    messages = [{\"role\": \"user\", \"content\": prompt}]\n",
    "    response = openai.ChatCompletion.create(\n",
    "        model=model,\n",
    "        messages=messages,\n",
    "        temperature=0, # this is the degree of randomness of the model's output\n",
    "    )\n",
    "    return response.choices[0].message[\"content\"]\n",
    "\n",
    "def get_completion_from_messages(messages, model=\"gpt-3.5-turbo\", temperature=0):\n",
    "    response = openai.ChatCompletion.create(\n",
    "        model=model,\n",
    "        messages=messages,\n",
    "        temperature=temperature, # this is the degree of randomness of the model's output\n",
    "    )\n",
    "#     print(str(response.choices[0].message))\n",
    "    return response.choices[0].message[\"content\"]"
   ]
  },
  {
   "cell_type": "code",
   "execution_count": null,
   "id": "cee681b7",
   "metadata": {
    "tags": []
   },
   "outputs": [],
   "source": [
    "messages =  [  \n",
    "{'role':'system', 'content':'당신은 셰익스피어처럼 말하는 assistant입니다.'},    \n",
    "{'role':'user', 'content':'나에게 농담을 해줘'},   \n",
    "{'role':'assistant', 'content':'닭은 왜 길을 건넜을까?'},   \n",
    "{'role':'user', 'content':'나도 몰라요'}  ]"
   ]
  },
  {
   "cell_type": "code",
   "execution_count": null,
   "id": "da45ea0f",
   "metadata": {
    "tags": []
   },
   "outputs": [],
   "source": [
    "response = get_completion_from_messages(messages, temperature=1)\n",
    "print(response)"
   ]
  },
  {
   "cell_type": "code",
   "execution_count": null,
   "id": "ca733f8f",
   "metadata": {
    "tags": []
   },
   "outputs": [],
   "source": [
    "messages =  [  \n",
    "{'role':'system', 'content':'당신은 친절한 챗봇입니다.'},    \n",
    "{'role':'user', 'content':'안녕, 내 이름은 이사야'}  ]\n",
    "response = get_completion_from_messages(messages, temperature=1)\n",
    "print(response)"
   ]
  },
  {
   "cell_type": "code",
   "execution_count": null,
   "id": "0ae595bc",
   "metadata": {
    "tags": []
   },
   "outputs": [],
   "source": [
    "messages =  [  \n",
    "{'role':'system', 'content':'당신은 친절한 챗봇입니다'},    \n",
    "{'role':'user', 'content':'네, 제 이름이 뭐죠?'}  ]\n",
    "response = get_completion_from_messages(messages, temperature=1)\n",
    "print(response)"
   ]
  },
  {
   "cell_type": "code",
   "execution_count": null,
   "id": "56cbb817",
   "metadata": {
    "tags": []
   },
   "outputs": [],
   "source": [
    "messages =  [  \n",
    "{'role':'system', 'content':'당신은 친절한 챗봇입니다'},\n",
    "{'role':'user', 'content':'안녕, 내 이름은 이사야'},\n",
    "{'role':'assistant', 'content': \"안녕 이사! 만나서 반가워. \\\n",
    "제가 오늘 도와드릴 일이 있나요?\"},\n",
    "{'role':'user', 'content':'네, 제 이름이 뭐죠?'}  ]\n",
    "response = get_completion_from_messages(messages, temperature=1)\n",
    "print(response)"
   ]
  },
  {
   "cell_type": "markdown",
   "id": "dedba66a-58b0-40d4-b9ae-47e79ae22328",
   "metadata": {
    "id": "bBg_MpXeYnTq"
   },
   "source": [
    "# 주문 봇\n",
    "우리는 OrderBot을 구축하기 위해 user 프롬프트 및 보조 응답 수집을 자동화할 수 있다. OrderBot은 피자 레스토랑에서 주문을 받을 것이다."
   ]
  },
  {
   "cell_type": "code",
   "execution_count": null,
   "id": "e76749ac",
   "metadata": {
    "tags": []
   },
   "outputs": [],
   "source": [
    "def collect_messages(_):\n",
    "    prompt = inp.value_input\n",
    "    inp.value = ''\n",
    "    context.append({'role':'user', 'content':f\"{prompt}\"})\n",
    "    response = get_completion_from_messages(context) \n",
    "    context.append({'role':'assistant', 'content':f\"{response}\"})\n",
    "    panels.append(\n",
    "        pn.Row('user:', pn.pane.Markdown(prompt, width=600)))\n",
    "    panels.append(\n",
    "        pn.Row('assistant:', pn.pane.Markdown(response, width=600, style={'background-color': '#F6F6F6'})))\n",
    " \n",
    "    return pn.Column(*panels)\n"
   ]
  },
  {
   "cell_type": "code",
   "execution_count": null,
   "id": "474b557c",
   "metadata": {
    "tags": []
   },
   "outputs": [],
   "source": [
    "import panel as pn  # GUI\n",
    "pn.extension()\n",
    "\n",
    "panels = [] # collect display \n",
    "\n",
    "context = [ {'role':'system', 'content':\"\"\"\n",
    "당신은 피자집의 주문을 받는 자동화된 서비스인 OrderBot입니다.\n",
    "당신은 먼저 고객에게 인사한 다음 주문을 받은 후 픽업인지 배송인지 물어봅니다.\n",
    "전체 주문을 수집할 때까지 기다렸다가 요약하고 고객이 추가할 다른 내용이 있는지 최종 확인합니다.\n",
    "배송이라면, 당신은 주소를 요청합니다.\n",
    "마침내 당신은 지불금을 회수한다.\n",
    "메뉴에서 항목을 고유하게 식별할 수 있도록 모든 옵션, 추가 및 크기를 명확히 해야 합니다.\n",
    "당신은 짧고 매우 대화하기 좋은 스타일로 대답합니다.\n",
    "\n",
    "메뉴는 다음 항목이 포함됩니다.\n",
    "페퍼로니 피자 12.95, 10.00, 7.00\n",
    "치즈피자 10.95, 9.25, 6.50\n",
    "가지 피자 11.95, 9.75, 6.75\n",
    "감자튀김 4.50, 3.50\n",
    "그리스 샐러드 7.25\n",
    "토핑:\n",
    "치즈 추가 2.00,\n",
    "양송이버섯 1.50개\n",
    "소시지 3.00\n",
    "캐나다산 베이컨 3.50\n",
    "AI 소스 1.50\n",
    "후추 1.00\n",
    "음료:\n",
    "코크스 3.00, 2.00, 1.00\n",
    "스프라이트 3.00, 2.00, 1.00\n",
    "생수 5.00\n",
    "\"\"\"} ]  # accumulate messages\n",
    "\n",
    "\n",
    "inp = pn.widgets.TextInput(value=\"안녕하세요.\", placeholder='여기에 텍스트 입력하세요...')\n",
    "button_conversation = pn.widgets.Button(name=\"채팅!\")\n",
    "\n",
    "interactive_conversation = pn.bind(collect_messages, button_conversation)\n",
    "\n",
    "dashboard = pn.Column(\n",
    "    inp,\n",
    "    pn.Row(button_conversation),\n",
    "    pn.panel(interactive_conversation, loading_indicator=True, height=300),\n",
    ")\n",
    "\n",
    "dashboard"
   ]
  },
  {
   "cell_type": "code",
   "execution_count": null,
   "id": "a0ee11b9",
   "metadata": {},
   "outputs": [],
   "source": [
    "messages =  context.copy()\n",
    "messages.append(\n",
    "{'role':'system', 'content':'이전 음식 주문의 json 요약을 만듭니다. 각 품목의 가격을 항목화합니다.\\\n",
    " 필드는 1) 피자, 2) 토핑 목록 포함 3) 음료 목록 포함 4) 사이드 목록 포함 5) 총 가격이어야 합니다'},    \n",
    ")\n",
    " # 필드는 1) 피자, 가격 2) 토핑 목록 3) 음료 목록 포함 가격 포함 4) 사이드 목록 포함 가격 포함 가격 포함 가격 포함 5) 총 가격',\n",
    "\n",
    "response = get_completion_from_messages(messages, temperature=0)\n",
    "print(response)"
   ]
  },
  {
   "cell_type": "markdown",
   "id": "3153c581-1c72-497a-9293-8db3bcb804fc",
   "metadata": {},
   "source": [
    "## 스스로 실험해 보세요!\n",
    "\n",
    "메뉴 또는 지시사항을 수정하여 자신만의 주문 봇을 만들 수 있습니다!"
   ]
  },
  {
   "cell_type": "code",
   "execution_count": null,
   "id": "2cc84122",
   "metadata": {},
   "outputs": [],
   "source": []
  }
 ],
 "metadata": {
  "kernelspec": {
   "display_name": "Python 3 (ipykernel)",
   "language": "python",
   "name": "python3"
  },
  "language_info": {
   "codemirror_mode": {
    "name": "ipython",
    "version": 3
   },
   "file_extension": ".py",
   "mimetype": "text/x-python",
   "name": "python",
   "nbconvert_exporter": "python",
   "pygments_lexer": "ipython3",
   "version": "3.11.3"
  }
 },
 "nbformat": 4,
 "nbformat_minor": 5
}
