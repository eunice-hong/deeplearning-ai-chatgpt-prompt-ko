{
 "cells": [
  {
   "cell_type": "markdown",
   "id": "b97ddf3b-d921-4169-9d82-b0ee95e9eccd",
   "metadata": {},
   "source": [
    "# 반복적인 프롬프트 개발\n",
    "이 과정에서는 제품 설명서에서 마케팅 복사본을 생성하기 위해 프롬프트를 반복적으로 분석하고 세분화합니다.\n",
    "\n",
    "## 설정"
   ]
  },
  {
   "cell_type": "code",
   "execution_count": null,
   "id": "2800e646",
   "metadata": {},
   "outputs": [],
   "source": [
    "import openai\n",
    "import os\n",
    "\n",
    "from dotenv import load_dotenv, find_dotenv\n",
    "_ = load_dotenv(find_dotenv()) # read local .env file\n",
    "\n",
    "openai.api_key  = os.getenv('OPENAI_API_KEY')"
   ]
  },
  {
   "cell_type": "code",
   "execution_count": null,
   "id": "9fb6f2de",
   "metadata": {},
   "outputs": [],
   "source": [
    "def get_completion(prompt, model=\"gpt-3.5-turbo\"):\n",
    "    messages = [{\"role\": \"user\", \"content\": prompt}]\n",
    "    response = openai.ChatCompletion.create(\n",
    "        model=model,\n",
    "        messages=messages,\n",
    "        temperature=0, # this is the degree of randomness of the model's output\n",
    "    )\n",
    "    return response.choices[0].message[\"content\"]"
   ]
  },
  {
   "cell_type": "markdown",
   "id": "71d1a1df-03c3-4f38-af6d-3962362f3dcd",
   "metadata": {},
   "source": [
    "## 제품 설명서를 기반으로 마케팅 제품 설명서 생성"
   ]
  },
  {
   "cell_type": "code",
   "execution_count": null,
   "id": "5be90e47",
   "metadata": {},
   "outputs": [],
   "source": [
    "fact_sheet_chair = \"\"\"\n",
    "개요\n",
    "- 서류함, 책상, 책장, 회의 테이블 등을 포함한 사무실 가구의 아름다운 가족의 일부는 20세기 중반에 영감을 받았습니다.\n",
    "- 셸 색상 및 베이스 마감의 여러 옵션.\n",
    "- 10가지 패브릭 및 6가지 가죽 옵션으로 플라스틱 후면 및 전면 커버(SWC-100) 또는 전체 커버(SWC-110)와 함께 사용할 수 있습니다.\n",
    "- 기본 마감 옵션은 스테인레스 스틸, 무광 블랙, 광택 화이트 또는 크롬입니다.\n",
    "- 의자는 팔걸이 유무에 관계없이 사용할 수 있습니다.\n",
    "- 가정 또는 비즈니스 환경에 적합합니다.\n",
    "- 계약 사용 자격이 있습니다.\n",
    "\n",
    "시공\n",
    "- 5륜 플라스틱 코팅 알루미늄 베이스.\n",
    "- 공기식 의자 조정으로 상승/하강이 용이합니다.\n",
    "\n",
    "치수\n",
    "- 폭 53CM | 20.87\"\n",
    "- 깊이 51CM | 20.08\"\n",
    "- 높이 80CM | 31.50\"\n",
    "- 시트 높이 44CM | 17.32\"\n",
    "- 시트 깊이 41CM | 16.14\"\n",
    "\n",
    "옵션들\n",
    "- 부드러운 바닥 또는 단단한 바닥 캐스터 옵션.\n",
    "- 시트 폼 밀도의 두 가지 선택: \n",
    " 중간(1.8lb/ft3) 또는 높음(2.8lb/ft3)\n",
    "- 암리스 또는 8위치 PU 암레스트 \n",
    "\n",
    "자재\n",
    "셸 베이스 글라이더\n",
    "- 알루미늄에 변형된 나일론 PA6/PA66 코팅을 사용합니다.\n",
    "- 셸 두께: 10mm.\n",
    "좌석.\n",
    "- HD36 폼\n",
    "\n",
    "원산지\n",
    "- 이탈리아\n",
    "\"\"\""
   ]
  },
  {
   "cell_type": "code",
   "execution_count": null,
   "id": "4f656d0c",
   "metadata": {},
   "outputs": [],
   "source": [
    "prompt = f\"\"\"\n",
    "당신의 업무는 마케팅 팀이 기술 자료 시트를 기반으로 제품의 소매 웹 사이트에 대한 설명을 작성할 수 있도록 돕는 것입니다.\n",
    "\n",
    "삼중 백틱으로 구분되어있는 기술 사양에 제공된 정보를 기반으로 제품 설명을 작성합니다.\n",
    "\n",
    "기술 사양: ```{fact_sheet_chair}```\n",
    "\"\"\"\n",
    "response = get_completion(prompt)\n",
    "print(response)\n"
   ]
  },
  {
   "cell_type": "markdown",
   "id": "e1361d6f-6022-4b7a-8107-b2e2ff5efd32",
   "metadata": {},
   "source": [
    "## 문제 1: 텍스트가 너무 깁니다. \n",
    "- 단어/문장/문자 수를 제한하시오."
   ]
  },
  {
   "cell_type": "code",
   "execution_count": null,
   "id": "f6129532",
   "metadata": {},
   "outputs": [],
   "source": [
    "prompt = f\"\"\"\n",
    "당신의 업무는 마케팅 팀이 기술 자료 시트를 기반으로 제품의 소매 웹 사이트에 대한 설명을 작성할 수 있도록 돕는 것입니다.\n",
    "\n",
    "삼중 백틱으로 구분되어있는 기술 사양에 제공된 정보를 기반으로 제품 설명을 작성합니다.\n",
    "\n",
    "최대 50개의 단어를 사용하세요.\n",
    "\n",
    "기술 사양:```{fact_sheet_chair}```\n",
    "\"\"\"\n",
    "response = get_completion(prompt)\n",
    "print(response)\n"
   ]
  },
  {
   "cell_type": "code",
   "execution_count": null,
   "id": "17f658d0",
   "metadata": {},
   "outputs": [],
   "source": [
    "len(response.split(\" \"))"
   ]
  },
  {
   "cell_type": "markdown",
   "id": "a6de9c92-857c-4d1c-8fd1-192cf47c4763",
   "metadata": {},
   "source": [
    "## 문제 2. 텍스트가 잘못된 세부 내용에 초점을 맞추고 있습니다.\n",
    "- 의도된 대상과 관련된 내용에 초점을 맞추도록 요청하시오."
   ]
  },
  {
   "cell_type": "code",
   "execution_count": null,
   "id": "954a8a06",
   "metadata": {},
   "outputs": [],
   "source": [
    "prompt = f\"\"\"\n",
    "당신의 업무는 마케팅 팀이 기술 자료 시트를 기반으로 제품의 소매 웹 사이트에 대한 설명을 작성할 수 있도록 돕는 것입니다.\n",
    "\n",
    "삼중 백틱으로 구분되어있는 기술 사양에 제공된 정보를 기반으로 제품 설명을 작성합니다.\n",
    "\n",
    "설명은 가구 소매점을 대상으로 하므로 본질적으로 기술적이어야 하며 제품이 구성되는 재료에 초점을 맞춰야 합니다.\n",
    "\n",
    "최대 50개의 단어를 사용하세요.\n",
    "\n",
    "기술 사양: ```{fact_sheet_chair}```\n",
    "\"\"\"\n",
    "response = get_completion(prompt)\n",
    "print(response)"
   ]
  },
  {
   "cell_type": "code",
   "execution_count": null,
   "id": "e9455d58",
   "metadata": {},
   "outputs": [],
   "source": [
    "prompt = f\"\"\"\n",
    "당신의 업무는 마케팅 팀이 기술 자료 시트를 기반으로 제품의 소매 웹 사이트에 대한 설명을 작성할 수 있도록 돕는 것입니다.\n",
    "\n",
    "삼중 백틱으로 구분되어있는 기술 사양에 제공된 정보를 기반으로 제품 설명을 작성합니다.\n",
    "\n",
    "설명은 가구 소매점을 대상으로 하므로 본질적으로 기술적이어야 하며 제품이 구성되는 재료에 초점을 맞춰야 합니다.\n",
    "\n",
    "설명의 끝에 기술 사양에 모든 7자 제품 ID를 포함합니다.\n",
    "\n",
    "최대 50개의 단어를 사용하세요.\n",
    "\n",
    "기술 사양: ```{fact_sheet_chair}```\n",
    "\"\"\"\n",
    "response = get_completion(prompt)\n",
    "print(response)"
   ]
  },
  {
   "cell_type": "markdown",
   "id": "5be496d5-54c9-443b-8116-0b3d3d9dc560",
   "metadata": {},
   "source": [
    "## 문제 3. 제품 규격표를 작성해야합니다.\n",
    "- 정보를 추출하여 표로 정리하도록 요청하시오."
   ]
  },
  {
   "cell_type": "code",
   "execution_count": null,
   "id": "0384f1e4",
   "metadata": {},
   "outputs": [],
   "source": [
    "prompt = f\"\"\"\n",
    "당신의 업무는 마케팅 팀이 기술 자료 시트를 기반으로 제품의 소매 웹 사이트에 대한 설명을 작성할 수 있도록 돕는 것입니다.\n",
    "\n",
    "삼중 백틱으로 구분되어있는 기술 사양에 제공된 정보를 기반으로 제품 설명을 작성합니다.\n",
    "\n",
    "설명은 가구 소매점을 대상으로 하므로 본질적으로 기술적이어야 하며 제품이 구성되는 재료에 초점을 맞춰야 합니다.\n",
    "\n",
    "설명의 끝에 기술 사양에 모든 7자 제품 ID를 포함합니다.\n",
    "\n",
    "설명 뒤에 제품의 치수를 제공하는 표를 포함합니다. 테이블에는 두 개의 열이 있어야 합니다.첫 번째 열에 치수의 이름을 포함합니다. 두 번째 열에는 인치 단위의 측정치만 포함됩니다.\n",
    "\n",
    "테이블에 '제품 치수'라는 제목을 지정합니다.\n",
    "\n",
    "위 모든 내용을 HTML 형식으로 작성합니다. 설명을 <div> 에 배치합니다.\n",
    "\n",
    "기술 사양:```{fact_sheet_chair}```\n",
    "\"\"\"\n",
    "\n",
    "response = get_completion(prompt)\n",
    "print(response)"
   ]
  },
  {
   "cell_type": "markdown",
   "id": "d681db67-6d59-40c1-a36b-4d76729a690d",
   "metadata": {},
   "source": [
    "## HTML을 보기 위한 Python 라이브러리 로드"
   ]
  },
  {
   "cell_type": "code",
   "execution_count": null,
   "id": "73ff0052",
   "metadata": {},
   "outputs": [],
   "source": [
    "from IPython.display import display, HTML"
   ]
  },
  {
   "cell_type": "code",
   "execution_count": null,
   "id": "3465ffce",
   "metadata": {},
   "outputs": [],
   "source": [
    "display(HTML(response))"
   ]
  },
  {
   "cell_type": "markdown",
   "id": "8ed02a02-9e12-4f63-97bd-f52064b18666",
   "metadata": {},
   "source": [
    "## 스스로 실험해 보세요!"
   ]
  },
  {
   "cell_type": "code",
   "execution_count": null,
   "id": "dbe1f850",
   "metadata": {},
   "outputs": [],
   "source": []
  }
 ],
 "metadata": {
  "kernelspec": {
   "display_name": "Python 3 (ipykernel)",
   "language": "python",
   "name": "python3"
  },
  "language_info": {
   "codemirror_mode": {
    "name": "ipython",
    "version": 3
   },
   "file_extension": ".py",
   "mimetype": "text/x-python",
   "name": "python",
   "nbconvert_exporter": "python",
   "pygments_lexer": "ipython3",
   "version": "3.11.3"
  }
 },
 "nbformat": 4,
 "nbformat_minor": 5
}
