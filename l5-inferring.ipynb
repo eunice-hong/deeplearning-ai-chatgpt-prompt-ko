{
 "cells": [
  {
   "cell_type": "markdown",
   "id": "3630c235-f891-4874-bd0a-5277d4d6aa82",
   "metadata": {},
   "source": [
    "# 추론: Inferring\n",
    "이 수업에서는 제품 리뷰와 뉴스 기사에서 정서와 주제를 추론할 것입니다.\n",
    "\n",
    "## 설정"
   ]
  },
  {
   "cell_type": "code",
   "execution_count": null,
   "id": "39689e67",
   "metadata": {},
   "outputs": [],
   "source": [
    "import openai\n",
    "import os\n",
    "\n",
    "from dotenv import load_dotenv, find_dotenv\n",
    "_ = load_dotenv(find_dotenv()) # read local .env file\n",
    "\n",
    "openai.api_key  = os.getenv('OPENAI_API_KEY')"
   ]
  },
  {
   "cell_type": "code",
   "execution_count": null,
   "id": "e82f5577",
   "metadata": {},
   "outputs": [],
   "source": [
    "def get_completion(prompt, model=\"gpt-3.5-turbo\"):\n",
    "    messages = [{\"role\": \"user\", \"content\": prompt}]\n",
    "    response = openai.ChatCompletion.create(\n",
    "        model=model,\n",
    "        messages=messages,\n",
    "        temperature=0, # this is the degree of randomness of the model's output\n",
    "    )\n",
    "    return response.choices[0].message[\"content\"]"
   ]
  },
  {
   "cell_type": "markdown",
   "id": "51d2fdfa-c99f-4750-8574-dba7712cd7f0",
   "metadata": {},
   "source": [
    "## 제품 리뷰 글"
   ]
  },
  {
   "cell_type": "code",
   "execution_count": null,
   "id": "b0f3b49b",
   "metadata": {},
   "outputs": [],
   "source": [
    "lamp_review = \"\"\"\n",
    "내 침실에 쓸 멋진 램프가 필요했고, 이 램프는 추가 수납이 가능했고 가격도 너무 비싸지 않았다. 빨리 잡았어요.  우리 램프의 끈이 운송 중에 끊어져서 회사에서 기쁘게 새 램프를 보냈습니다. 며칠 안에 도착하기도 했어요. 그것은 조립하기 쉬웠다.  제가 부족한 부분이 있어서 지원팀에 연락을 해봤는데, 그들은 아주 빨리 부족한 부분을 저에게 가져다 주었어요! 루미나는 내가 보기에 그들의 고객과 제품을 신경쓰는 훌륭한 회사인 것 같아요!!\n",
    "\"\"\""
   ]
  },
  {
   "cell_type": "markdown",
   "id": "30d6e4bd-3337-45a3-8c99-a734cdd06743",
   "metadata": {},
   "source": [
    "## 정서 (긍정/부정)"
   ]
  },
  {
   "cell_type": "code",
   "execution_count": null,
   "id": "e3157601",
   "metadata": {},
   "outputs": [],
   "source": [
    "prompt = f\"\"\"\n",
    "삼중 백틱으로 구분되는 다음 제품 리뷰는 어떤 느낌인가요?\n",
    "\n",
    "리뷰 텍스트:'''{lamp_review}'''\n",
    "\"\"\"\n",
    "response = get_completion(prompt)\n",
    "print(response)"
   ]
  },
  {
   "cell_type": "code",
   "execution_count": null,
   "id": "acf9ca16",
   "metadata": {},
   "outputs": [],
   "source": [
    "prompt = f\"\"\"\n",
    "삼중 백틱으로 구분되는 다음 제품 리뷰는 어떤 느낌인가요?\n",
    "\n",
    "\"긍정적\" 또는 \"부정적\" 중 하나로 대답하십시오.\n",
    "\n",
    "리뷰 텍스트:'''{lamp_review}'''\n",
    "\"\"\"\n",
    "response = get_completion(prompt)\n",
    "print(response)"
   ]
  },
  {
   "cell_type": "markdown",
   "id": "81d2a973-1fa4-4a35-ae35-a2e746c0e91b",
   "metadata": {},
   "source": [
    "## 감정 유형 식별"
   ]
  },
  {
   "cell_type": "code",
   "execution_count": null,
   "id": "8aa7934b",
   "metadata": {},
   "outputs": [],
   "source": [
    "prompt = f\"\"\"\n",
    "다음 리뷰의 작성자가 표현하고 있는 감정 목록을 확인합니다. \n",
    "목록에 5개 이하의 항목을 포함합니다. \n",
    "답변 형식을 쉼표로 구분된 소문자 단어 목록으로 지정합니다.\n",
    "\n",
    "리뷰 텍스트:'''{lamp_review}'''\n",
    "\"\"\"\n",
    "response = get_completion(prompt)\n",
    "print(response)"
   ]
  },
  {
   "cell_type": "markdown",
   "id": "a428d093-51c9-461c-b41e-114e80876409",
   "metadata": {},
   "source": [
    "## 분노 식별"
   ]
  },
  {
   "cell_type": "code",
   "execution_count": null,
   "id": "dba1a538",
   "metadata": {},
   "outputs": [],
   "source": [
    "prompt = f\"\"\"\n",
    "다음 리뷰의 작가는 분노를 표현하고 있나요? \n",
    "리뷰는 삼중 백틱으로 구분된다. \n",
    "예 또는 아니오 중 하나로 대답하십시오.\n",
    "\n",
    "리뷰 텍스트:'''{lamp_review}'''\n",
    "\"\"\"\n",
    "response = get_completion(prompt)\n",
    "print(response)"
   ]
  },
  {
   "cell_type": "markdown",
   "id": "936a771e-ca78-4e55-8088-2da6f3820ddc",
   "metadata": {},
   "source": [
    "## 고객 리뷰에서 제품 및 회사 이름 추출"
   ]
  },
  {
   "cell_type": "code",
   "execution_count": null,
   "id": "a13bea1b",
   "metadata": {},
   "outputs": [],
   "source": [
    "prompt = f\"\"\"\n",
    "리뷰 텍스트에서 다음 항목을 식별합니다: \n",
    "- 리뷰어가 구매한 품목\n",
    "- 그 물건을 만든 회사\n",
    "\n",
    "그 리뷰는 삼중 백틱으로 구분된다. \n",
    "응답을 \"항목\"과 \"브랜드\"를 키로 하여 JSON 개체로 형식을 지정합니다. \n",
    "정보가 없으면 \"unknown\"을 값으로 사용합니다.\n",
    "가능한 한 짧게 응답하십시오.\n",
    "  \n",
    "리뷰 텍스트:'''{lamp_review}'''\n",
    "\"\"\"\n",
    "response = get_completion(prompt)\n",
    "print(response)"
   ]
  },
  {
   "cell_type": "markdown",
   "id": "a38880a5-088f-4609-9913-f8fa41fb7ba0",
   "metadata": {},
   "source": [
    "## 한 번에 여러 작업하기"
   ]
  },
  {
   "cell_type": "code",
   "execution_count": null,
   "id": "e7dda9e5",
   "metadata": {},
   "outputs": [],
   "source": [
    "prompt = f\"\"\"\n",
    "리뷰 텍스트에서 다음 항목을 식별합니다: \n",
    "- 정서(긍정적 또는 부정적)\n",
    "- 리뷰어가 분노를 표현하고 있습니까? (참 또는 거짓)\n",
    "- 검토자가 구매한 품목\n",
    "- 그 물건을 만든 회사\n",
    "\n",
    "그 리뷰는 삼중 백틱으로 구분된다. \n",
    "\"Sentment\", \"Anger\", \"Item\", \"Brand\"를 키로 하여 응답을 JSON 개체로 포맷합니다.\n",
    "정보가 없으면 \"알 수 없음\"을 값으로 사용합니다.\n",
    "가능한 한 짧게 응답하십시오.\n",
    "분노 값을 부울 형식으로 지정합니다.\n",
    "\n",
    "리뷰 텍스트: '''{lamp_review}'''\n",
    "\"\"\"\n",
    "response = get_completion(prompt)\n",
    "print(response)"
   ]
  },
  {
   "cell_type": "markdown",
   "id": "235fc223-2c89-49ec-ac2d-78a8e74a43ac",
   "metadata": {},
   "source": [
    "## 주제 유추"
   ]
  },
  {
   "cell_type": "code",
   "execution_count": null,
   "id": "8a74cc3e",
   "metadata": {},
   "outputs": [],
   "source": [
    "story = \"\"\"\n",
    "정부가 실시한 최근 조사에서, 공공 부문 직원들은 그들이 일하는 부서에 대한 만족도를 평가하도록 요청받았다. 결과는 NASA가 95%의 만족도를 기록하며 가장 인기 있는 부서라는 것을 보여주었다.\n",
    "\n",
    "NASA의 한 직원인 John Smith는 이 연구 결과에 대해 \"나는 나사가 1위를 차지한 것에 놀라지 않았다. 이곳은 놀라운 사람들과 놀라운 기회들과 함께 일하기에 좋은 곳입니다. 저는 이런 혁신적인 조직의 일원이 된 것이 자랑스럽습니다.\"\n",
    "\n",
    "이 결과는 NASA의 경영진에게도 환영을 받았으며, 톰 존슨 소장은 \"우리 직원들이 나사에서 일하는 것에 만족한다는 말을 듣게 되어 매우 기쁩니다. 우리는 우리의 목표를 달성하기 위해 끊임없이 노력하는 재능 있고 헌신적인 팀이 있는데, 그들의 노력이 성과를 내고 있다는 것을 보는 것은 환상적이다.\"\n",
    "\n",
    "이번 조사에서도 사회보장청의 만족도가 가장 낮은 것으로 나타나 직원의 45%만이 직무에 만족한다고 응답했다. 정부는 설문조사에서 직원들이 제기한 우려를 해소하고 전 부서에 걸쳐 직무 만족도를 향상시키기 위해 노력할 것을 약속했다.\"\"\""
   ]
  },
  {
   "cell_type": "markdown",
   "id": "a8ea91d6-e841-4ee2-bed9-ca4a36df177f",
   "metadata": {},
   "source": [
    "## 주제 5개 유추하기"
   ]
  },
  {
   "cell_type": "code",
   "execution_count": null,
   "id": "5c267cbe",
   "metadata": {},
   "outputs": [],
   "source": [
    "prompt = f\"\"\"\n",
    "삼중 백틱으로 구분되는 다음 텍스트에서 다뤄지는 주제 다섯 가지를 결정합니다. \n",
    "\n",
    "각 항목을 한 단어 또는 두 단어 길이로 만드십시오. \n",
    "\n",
    "응답 형식을 쉼표로 구분된 항목 목록으로 지정합니다.\n",
    "\n",
    "텍스트 예시: '''{story}'''\n",
    "\"\"\"\n",
    "response = get_completion(prompt)\n",
    "print(response)"
   ]
  },
  {
   "cell_type": "code",
   "execution_count": null,
   "id": "f92f90fe",
   "metadata": {},
   "outputs": [],
   "source": [
    "response.split(sep=',')"
   ]
  },
  {
   "cell_type": "code",
   "execution_count": null,
   "id": "94b8fa65",
   "metadata": {},
   "outputs": [],
   "source": [
    "topic_list = [\n",
    "    \"나사\", \"정부\", \"공학\", \"직원 만족\", \"연방 정부\"\n",
    "]"
   ]
  },
  {
   "cell_type": "markdown",
   "id": "34be1d2a-1309-4512-841a-b6f67338938b",
   "metadata": {},
   "source": [
    "## 특정 항목에 대한 뉴스 알림 만들기"
   ]
  },
  {
   "cell_type": "code",
   "execution_count": null,
   "id": "626c5b8e",
   "metadata": {},
   "outputs": [],
   "source": [
    "prompt = f\"\"\"\n",
    "다음 텍스트의 주제 목록 내 항목 포함 여부를 판단하세요.\n",
    "텍스트는 삼중 백틱으로 구분됩니다.\n",
    "\n",
    "각 주제에 대해 0 또는 1로 답변을 목록으로 제공합니다.\n",
    "\n",
    "주제 목록: {\", \".join(topic_list)}\n",
    "\n",
    "텍스트 예시: '''{story}'''\n",
    "\"\"\"\n",
    "response = get_completion(prompt)\n",
    "print(response)"
   ]
  },
  {
   "cell_type": "code",
   "execution_count": null,
   "id": "902a7c74",
   "metadata": {},
   "outputs": [],
   "source": [
    "topic_dict = {i.split(': ')[0].strip('- '): int(i.split(': ')[1]) for i in response.split(sep='\\n')}\n",
    "print(topic_dict)\n",
    "if topic_dict['나사'] == 1:\n",
    "    print(\"경고: 나사의 새로운 이야기!\")"
   ]
  },
  {
   "cell_type": "markdown",
   "id": "f88408ae-469a-4b02-a043-f6b4f0b14bf9",
   "metadata": {},
   "source": [
    "## 스스로 실험해 보세요!"
   ]
  },
  {
   "cell_type": "code",
   "execution_count": null,
   "id": "1bd3553f",
   "metadata": {},
   "outputs": [],
   "source": []
  }
 ],
 "metadata": {
  "kernelspec": {
   "display_name": "Python 3 (ipykernel)",
   "language": "python",
   "name": "python3"
  },
  "language_info": {
   "codemirror_mode": {
    "name": "ipython",
    "version": 3
   },
   "file_extension": ".py",
   "mimetype": "text/x-python",
   "name": "python",
   "nbconvert_exporter": "python",
   "pygments_lexer": "ipython3",
   "version": "3.11.3"
  }
 },
 "nbformat": 4,
 "nbformat_minor": 5
}
